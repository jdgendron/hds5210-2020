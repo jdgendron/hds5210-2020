{
 "cells": [
  {
   "cell_type": "markdown",
   "metadata": {},
   "source": [
    "# Week 10 Assignment"
   ]
  },
  {
   "cell_type": "markdown",
   "metadata": {},
   "source": [
    "We had two major areas of discussion this week.  The first was all about how to work with string data - parsing and splitting strings using basic string fuctions as well as more complex string matching using regular expressions.  The second was a basic introduction to Pandas with a few different examples of how to load data into Pandas and then visualize it using graphs (histogram, distribution, scatter, bar, timeseries).\n",
    "\n",
    "* 36.1 - 1 point\n",
    "* 36.2 - 1 point\n",
    "* 38.1 - 3 points"
   ]
  },
  {
   "cell_type": "markdown",
   "metadata": {},
   "source": [
    "## 36.1 String Manipulation\n",
    "\n",
    "Write a function that will parse an address that includes one or two parts of street information, a city, a state, and a zip code -- all separated by commas.  You can assume that commas won't appear as part of the address information, only as a delimiter.  Here are some examples:\n",
    "\n",
    "823 Pebble Street, St. Louis, MO 63105\n",
    "\n",
    "91 Cityplace, Suite #33, St. Louis, MO 63144\n",
    "\n",
    "81234 Homeroad, Kansas City, MO 62441\n",
    "\n",
    "\n",
    "The output you should generate will be a dictionary with the following possible items.\n",
    "\n",
    "```\n",
    "{\n",
    "  'street1': '91 Cityplace',\n",
    "  'street2': 'Suite #33',\n",
    "  'city': 'St. Louis',\n",
    "  'state': 'MO',\n",
    "  'zip': '63122'\n",
    "}\n",
    "```\n",
    "\n",
    "Declare your function like this:\n",
    "```\n",
    "parse_address(address)\n",
    "```"
   ]
  },
  {
   "cell_type": "code",
   "execution_count": 106,
   "metadata": {},
   "outputs": [],
   "source": [
    "def parse_address(address):\n",
    "    comma_count = address.count(',')\n",
    "    if comma_count == 2:\n",
    "        street1 = address.split(',')[0]\n",
    "        city = address.split(',')[1][1:]\n",
    "        state = address.split(',')[2][1:3]\n",
    "        zip_code = address.split(',')[2][-5:]\n",
    "        dict = {'street1':street1, 'city':city, 'state':state, 'zip':zip_code}\n",
    "    else:\n",
    "        street1 = address.split(',')[0]\n",
    "        street2 = address.split(',')[1][1:]\n",
    "        city = address.split(',')[2][1:]\n",
    "        state = address.split(',')[3][1:3]\n",
    "        zip_code = address.split(',')[3][-5:]\n",
    "        dict = {'street1':street1, 'street2':street2, 'city':city, 'state':state, 'zip':zip_code}\n",
    "    return dict"
   ]
  },
  {
   "cell_type": "markdown",
   "metadata": {},
   "source": [
    "## 36.2 Test the Address Parser\n",
    "\n",
    "Now write a series of good tests to ensure that your addres parser is going to work with a variety of different inputs.  Include at least 5 different examples."
   ]
  },
  {
   "cell_type": "code",
   "execution_count": 107,
   "metadata": {},
   "outputs": [],
   "source": [
    "assert(parse_address('823 Pebble Street, St. Louis, MO 63105')) == {\n",
    "  'street1': '823 Pebble Street',\n",
    "  'city': 'St. Louis',\n",
    "  'state': 'MO',\n",
    "  'zip': '63105'\n",
    "}\n",
    "assert(parse_address('91 Cityplace, Suite #33, St. Louis, MO 63144')) == {\n",
    "  'street1': '91 Cityplace',\n",
    "  'street2': 'Suite #33',\n",
    "  'city': 'St. Louis',\n",
    "  'state': 'MO',\n",
    "  'zip': '63144'\n",
    "}\n",
    "assert(parse_address('81234 Homeroad, Kansas City, MO 62441')) == {\n",
    "  'street1': '81234 Homeroad',\n",
    "  'city': 'Kansas City',\n",
    "  'state': 'MO',\n",
    "  'zip': '62441'\n",
    "}\n",
    "assert(parse_address('11235 Fibonacci, Apt. 8, Saint Louis, MO 63131')) == {\n",
    "  'street1': '11235 Fibonacci',\n",
    "  'street2': 'Apt. 8',\n",
    "  'city': 'Saint Louis',\n",
    "  'state': 'MO',\n",
    "  'zip': '63131'\n",
    "}\n",
    "assert(parse_address('100 East Main Street, Festus, MO 63128')) == {\n",
    "  'street1': '100 East Main Street',\n",
    "  'city': 'Festus',\n",
    "  'state': 'MO',\n",
    "  'zip': '63128'\n",
    "}"
   ]
  },
  {
   "cell_type": "markdown",
   "metadata": {},
   "source": [
    "## 38.1 COVID-19 Trend Data\n",
    "\n",
    "Since we're dealing with a global pandemic right now, probably good to go ahead and do some anlysis with that data.  Take a look at what's here: https://ourworldindata.org/covid-sources-comparison\n",
    "\n",
    "Near the middle of the page, there are two charts with some data.  On the left is \"positive cases\" and on the right is \"deaths.\"  Both charts have a button that says \"Data.\"  What you will do below is write a series of Python commands (doesn't need to be in a function) to read that data and produce a simple timeseries chart using the information from John's Hopkins.  Your code will need to read the data, possibly do some reformatting, and then produce a simple timeseries chart.\n",
    "\n",
    "(Unfortunately, the tools used on this website don't make it easy to link to and directly download the data, so I've placed a copy in `/data/covid19.xlsx` for you to access.  This file came from one of the underlying sources: https://www.ecdc.europa.eu/en/publications-data/download-todays-data-geographic-distribution-covid-19-cases-worldwide)"
   ]
  },
  {
   "cell_type": "code",
   "execution_count": 108,
   "metadata": {},
   "outputs": [
    {
     "data": {
      "text/plain": [
       "Text(0, 0.5, 'The # of Cases')"
      ]
     },
     "execution_count": 108,
     "metadata": {},
     "output_type": "execute_result"
    },
    {
     "data": {
      "image/png": "[encoded data removed]",
      "text/plain": [
       "<Figure size 432x288 with 1 Axes>"
      ]
     },
     "metadata": {
      "needs_background": "light"
     },
     "output_type": "display_data"
    }
   ],
   "source": [
    "%matplotlib inline\n",
    "import pandas as pd\n",
    "import seaborn as sns\n",
    "import matplotlib.pyplot as plt\n",
    "import numpy as np\n",
    "cv_data = pd.read_excel('/data/covid19.xlsx')\n",
    "cv_data[0:2]\n",
    "cv_data_by_day = cv_data.groupby(['DateRep']).sum()\n",
    "cv_data_by_day['Cases'].cumsum().plot(style='-')\n",
    "plt.xlabel('Date')\n",
    "plt.ylabel('The # of Cases')"
   ]
  },
  {
   "cell_type": "markdown",
   "metadata": {},
   "source": [
    "One hint that you might find helpful while working on this is that the data in this file is the number of cases each week, not the running total.  You will want to plot a running total.\n",
    "\n",
    "To do so, pandas has a `.cumsum()` method that you can use after doing a `groupby` and a `.sum()` somewhat similar to the last example of the pandas-viz.ipynb file (except in that example, it's doing a `mean()` instead of `sum()` and a `rolling()` instead of `cumsum()`.)  This link might also provide a little guidance: https://stackoverflow.com/questions/48739374/pandas-plot-cumulative-sum-of-counters-over-time"
   ]
  },
  {
   "cell_type": "markdown",
   "metadata": {},
   "source": [
    "## Extra Challenges\n",
    "\n",
    "Take the same data, but not start looking at it by country.  Do some groupbys.\n",
    "\n",
    "Or take the same data and look at the mortality rate (deaths / total reported cases) and see how that is different by country or trending over time."
   ]
  },
  {
   "cell_type": "code",
   "execution_count": 109,
   "metadata": {},
   "outputs": [
    {
     "data": {
      "text/plain": [
       "Text(0, 0.5, 'Amount')"
      ]
     },
     "execution_count": 109,
     "metadata": {},
     "output_type": "execute_result"
    },
    {
     "data": {
      "image/png": "[encoded data removed]",
      "text/plain": [
       "<Figure size 432x288 with 1 Axes>"
      ]
     },
     "metadata": {
      "needs_background": "light"
     },
     "output_type": "display_data"
    }
   ],
   "source": [
    "%matplotlib inline\n",
    "import pandas as pd\n",
    "import seaborn as sns\n",
    "import matplotlib.pyplot as plt\n",
    "import numpy as np\n",
    "cv_data = pd.read_excel('/data/covid19.xlsx')\n",
    "cv_data[0:2]\n",
    "cv_data_by_date = cv_data.groupby(['DateRep']).sum().cumsum()\n",
    "plt.figure()\n",
    "plt.plot(cv_data_by_date['Cases'])\n",
    "plt.plot(cv_data_by_date['Deaths'])\n",
    "plt.legend(['Cases', 'Deaths'])\n",
    "plt.xlabel('Date')\n",
    "plt.ylabel('Amount')"
   ]
  },
  {
   "cell_type": "code",
   "execution_count": 110,
   "metadata": {},
   "outputs": [
    {
     "data": {
      "text/plain": [
       "Text(0, 0.5, '# of Cases')"
      ]
     },
     "execution_count": 110,
     "metadata": {},
     "output_type": "execute_result"
    },
    {
     "data": {
      "image/png": "[encoded data removed]",
      "text/plain": [
       "<Figure size 432x288 with 1 Axes>"
      ]
     },
     "metadata": {
      "needs_background": "light"
     },
     "output_type": "display_data"
    }
   ],
   "source": [
    "%matplotlib inline\n",
    "import pandas as pd\n",
    "import seaborn as sns\n",
    "import matplotlib.pyplot as plt\n",
    "import numpy as np\n",
    "cv_data = pd.read_excel('/data/covid19.xlsx')\n",
    "cv_data[0:2]\n",
    "cv_USA = cv_data[(cv_data['Countries and territories'] == 'United_States_of_America')]\n",
    "cv_china = cv_data[(cv_data['Countries and territories'] == 'China')]\n",
    "cv_USA_bydate = cv_USA.groupby(['DateRep']).sum().cumsum()\n",
    "cv_china_bydate = cv_china.groupby(['DateRep']).sum().cumsum()\n",
    "plt.figure()\n",
    "plt.plot(cv_USA_bydate['Cases'])\n",
    "plt.plot(cv_china_bydate['Cases'])\n",
    "plt.legend(['USA', 'China'])\n",
    "plt.xlabel('Date')\n",
    "plt.ylabel('# of Cases')"
   ]
  },
  {
   "cell_type": "code",
   "execution_count": null,
   "metadata": {},
   "outputs": [],
   "source": []
  },
  {
   "cell_type": "code",
   "execution_count": null,
   "metadata": {},
   "outputs": [],
   "source": []
  }
 ],
 "metadata": {
  "kernelspec": {
   "display_name": "Python 3",
   "language": "python",
   "name": "python3"
  },
  "language_info": {
   "codemirror_mode": {
    "name": "ipython",
    "version": 3
   },
   "file_extension": ".py",
   "mimetype": "text/x-python",
   "name": "python",
   "nbconvert_exporter": "python",
   "pygments_lexer": "ipython3",
   "version": "3.6.7"
  }
 },
 "nbformat": 4,
 "nbformat_minor": 4
}
